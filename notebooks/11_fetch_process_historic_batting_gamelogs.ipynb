{
 "cells": [
  {
   "cell_type": "markdown",
   "id": "77ab12ec-6a2c-4fd8-8b1a-45b8e69448cb",
   "metadata": {
    "panel-layout": {
     "height": 93.5781,
     "visible": true,
     "width": 100
    }
   },
   "source": [
    "# SF Giants cumulative batting statistics by season, 1958-2024\n",
    "> This notebook visusalizes the team's current and past game-by-game and cumulative totals for hits, doubles, home runs, walks, strikeouts and other statistics using data from [Baseball Reference](https://www.baseball-reference.com/teams/tgl.cgi?team=LAD&t=b&year=2024)."
   ]
  },
  {
   "cell_type": "markdown",
   "id": "277c96d0-48d1-4944-8f3d-369979dbae0c",
   "metadata": {
    "panel-layout": {
     "height": 24,
     "visible": true,
     "width": 100
    }
   },
   "source": [
    "---"
   ]
  },
  {
   "cell_type": "code",
   "execution_count": 5,
   "id": "0c8860ec-84e0-46f7-9af0-0d12f1d26f3f",
   "metadata": {},
   "outputs": [
    {
     "name": "stderr",
     "output_type": "stream",
     "text": [
      "2024-06-02 21:14:25,030 - INFO - Found credentials in shared credentials file: ~/.aws/credentials\n"
     ]
    }
   ],
   "source": [
    "#!/usr/bin/env python\n",
    "# coding: utf-8\n",
    "\n",
    "import os\n",
    "import requests\n",
    "import datetime\n",
    "import pandas as pd\n",
    "#import jupyter_black\n",
    "import altair as alt\n",
    "import altair_stiles as altstiles\n",
    "from io import BytesIO\n",
    "import boto3\n",
    "import logging\n",
    "from IPython.display import Image\n",
    "from random import randint\n",
    "from time import sleep\n",
    "\n",
    "# Set up basic configuration for logging\n",
    "logging.basicConfig(level=logging.INFO, format='%(asctime)s - %(levelname)s - %(message)s')\n",
    "\n",
    "# Determine if running in a GitHub Actions environment\n",
    "is_github_actions = os.getenv('GITHUB_ACTIONS') == 'true'\n",
    "\n",
    "# AWS credentials and session initialization\n",
    "aws_key_id = os.environ.get(\"AWS_ACCESS_KEY_ID\")\n",
    "aws_secret_key = os.environ.get(\"AWS_SECRET_ACCESS_KEY\")\n",
    "aws_region = \"us-east-1\"\n",
    "\n",
    "# Conditional AWS session creation based on the environment\n",
    "if is_github_actions:\n",
    "    # In GitHub Actions, use environment variables directly\n",
    "    session = boto3.Session(\n",
    "        aws_access_key_id=aws_key_id,\n",
    "        aws_secret_access_key=aws_secret_key,\n",
    "        region_name=aws_region\n",
    "    )\n",
    "else:\n",
    "    # Locally, use a specific profile\n",
    "    session = boto3.Session(profile_name=\"mattwilkens\", region_name=aws_region)\n",
    "\n",
    "s3_resource = session.resource(\"s3\")\n",
    "\n",
    "# Base directory settings\n",
    "#base_dir = os.getcwd()\n",
    "data_dir = os.path.join('..', 'data', 'batting', 'archive')\n",
    "# os.makedirs(data_dir, exist_ok=True)\n",
    "\n",
    "profile_name = os.environ.get(\"AWS_PERSONAL_PROFILE\")\n",
    "today = datetime.date.today()\n",
    "year = today.year\n",
    "\n",
    "headers = {\n",
    "    \"User-Agent\": \"Mozilla/5.0 (Macintosh; Intel Mac OS X 10_15_7) AppleWebKit/537.36 (KHTML, like Gecko) Chrome/109.0.0.0 Safari/537.36\",\n",
    "}"
   ]
  },
  {
   "cell_type": "code",
   "execution_count": 6,
   "id": "1c553034-da89-49e9-be07-8659de9c208f",
   "metadata": {},
   "outputs": [],
   "source": [
    "# Fetch Archive game logs\n",
    "#archive_url = \"https://giantsdata.s3.amazonaws.com/data/batting/archive/giants_team_cumulative_batting_logs_1958_2023.parquet\"\n",
    "#archive_df = pd.read_parquet(archive_url)\n",
    "\n",
    "dfs = []\n",
    "for year in range(1958,2024):\n",
    "\n",
    "    # Fetch Current game logs\n",
    "    current_url = f\"https://www.baseball-reference.com/teams/tgl.cgi?team=SFG&t=b&year={year}\"\n",
    "    current_df = pd.read_html(current_url)[0].assign(year=year).query('HR != \"HR\"')\n",
    "    current_df.columns = current_df.columns.str.lower()\n",
    "    \n",
    "    # Process current game logs\n",
    "    current_df[\"game_date\"] = pd.to_datetime(\n",
    "        current_df[\"date\"] + \" \" + current_df[\"year\"].astype(str),\n",
    "        format=\"%b %d %Y\",\n",
    "        errors=\"coerce\"\n",
    "    ).dt.strftime(\"%Y-%m-%d\")\n",
    "    \n",
    "    # Drop unnecessary columns\n",
    "    drop_cols = [\n",
    "        \"rk\", \"date\", \"unnamed: 3\", \"opp\", \"rslt\", \"ba\", \"obp\", \"slg\", \"ops\", \"lob\", \"#\", \"thr\", \"opp. starter (gmesc)\"\n",
    "    ]\n",
    "    current_df = current_df.drop(drop_cols, axis=1).copy()\n",
    "    \n",
    "    # Define value columns\n",
    "    val_cols = [\n",
    "        \"gtm\", \"pa\", \"ab\", \"r\", \"h\", \"2b\", \"3b\", \"hr\", \"rbi\", \"bb\", \"ibb\", \"so\", \"hbp\", \"sh\", \"sf\", \"roe\", \"gdp\", \"sb\", \"cs\"\n",
    "    ]\n",
    "    \n",
    "    # Convert value columns to integers\n",
    "    current_df[val_cols] = current_df[val_cols].astype(int)\n",
    "    \n",
    "    # Calculate cumulative columns\n",
    "    for col in val_cols:\n",
    "        current_df[f\"{col}_cum\"] = current_df.groupby(\"year\")[col].cumsum()\n",
    "    current_df = current_df.drop(\"gtm_cum\", axis=1)\n",
    "    dfs.append(current_df)\n",
    "    sleep(randint(3, 6))"
   ]
  },
  {
   "cell_type": "code",
   "execution_count": 9,
   "id": "10415372-7b33-4574-9c2b-cfa43644f1f5",
   "metadata": {},
   "outputs": [
    {
     "name": "stderr",
     "output_type": "stream",
     "text": [
      "2024-06-02 21:21:21,532 - INFO - Saved csv format to ../data/batting/archive/giants_team_cumulative_batting_logs_1958_2023.csv\n",
      "2024-06-02 21:21:21,545 - INFO - Saved json format to ../data/batting/archive/giants_team_cumulative_batting_logs_1958_2023.json\n",
      "2024-06-02 21:21:21,550 - INFO - Saved parquet format to ../data/batting/archive/giants_team_cumulative_batting_logs_1958_2023.parquet\n",
      "2024-06-02 21:21:22,237 - INFO - Uploaded csv to giantsdata/data/batting/archive/giants_team_cumulative_batting_logs_1958_2023.csv\n",
      "2024-06-02 21:21:26,275 - INFO - Uploaded json to giantsdata/data/batting/archive/giants_team_cumulative_batting_logs_1958_2023.json\n",
      "2024-06-02 21:21:26,632 - INFO - Uploaded parquet to giantsdata/data/batting/archive/giants_team_cumulative_batting_logs_1958_2023.parquet\n"
     ]
    }
   ],
   "source": [
    "# Combine current and archive data\n",
    "df = (\n",
    "    pd.concat(dfs)\n",
    "    .sort_values([\"year\", \"gtm\"], ascending=[False, True])\n",
    "    .reset_index(drop=True)\n",
    "    .drop_duplicates()\n",
    ")\n",
    "\n",
    "# Optimize DataFrame for output\n",
    "optimized_df = df[\n",
    "    [\"gtm\", \"year\", \"r_cum\", \"h_cum\", \"2b_cum\", \"bb_cum\", \"so_cum\", \"hr_cum\"]\n",
    "].copy()\n",
    "\n",
    "# Function to save DataFrame to local files\n",
    "def save_dataframe(df, path_without_extension, formats):\n",
    "    for file_format in formats:\n",
    "        try:\n",
    "            full_path = f\"{path_without_extension}.{file_format}\"\n",
    "            if file_format == \"csv\":\n",
    "                df.to_csv(full_path, index=False)\n",
    "            elif file_format == \"json\":\n",
    "                df.to_json(full_path, indent=4, orient=\"records\", lines=False)\n",
    "            elif file_format == \"parquet\":\n",
    "                df.to_parquet(full_path, index=False)\n",
    "            logging.info(f\"Saved {file_format} format to {full_path}\")\n",
    "        except Exception as e:\n",
    "            logging.error(f\"Failed to save {file_format}: {e}\")\n",
    "\n",
    "# Function to save DataFrame to S3\n",
    "def save_to_s3(df, base_path, s3_bucket, formats):\n",
    "    for fmt in formats:\n",
    "        try:\n",
    "            buffer = BytesIO()\n",
    "            if fmt == \"csv\":\n",
    "                df.to_csv(buffer, index=False)\n",
    "                content_type = \"text/csv\"\n",
    "            elif fmt == \"json\":\n",
    "                df.to_json(buffer, indent=4, orient=\"records\", lines=False)\n",
    "                content_type = \"application/json\"\n",
    "            elif fmt == \"parquet\":\n",
    "                df.to_parquet(buffer, index=False)\n",
    "                content_type = \"application/octet-stream\"\n",
    "            buffer.seek(0)\n",
    "            s3_resource.Bucket(s3_bucket).put_object(Key=f\"{base_path}.{fmt}\", Body=buffer, ContentType=content_type)\n",
    "            logging.info(f\"Uploaded {fmt} to {s3_bucket}/{base_path}.{fmt}\")\n",
    "        except Exception as e:\n",
    "            logging.error(f\"Failed to upload {fmt} to S3: {e}\")\n",
    "\n",
    "# Saving files locally and to S3\n",
    "file_path = os.path.join(data_dir, 'giants_team_cumulative_batting_logs_1958_2023')\n",
    "formats = [\"csv\", \"json\", \"parquet\"]\n",
    "save_dataframe(optimized_df, file_path, formats)\n",
    "save_to_s3(optimized_df, \"data/batting/archive/giants_team_cumulative_batting_logs_1958_2023\", \"giantsdata\", formats)"
   ]
  },
  {
   "cell_type": "code",
   "execution_count": null,
   "id": "a0b7f81c-15e8-496b-9b5a-331c59ce454d",
   "metadata": {},
   "outputs": [],
   "source": []
  }
 ],
 "metadata": {
  "kernelspec": {
   "display_name": "Python 3 (ipykernel)",
   "language": "python",
   "name": "python3"
  },
  "language_info": {
   "codemirror_mode": {
    "name": "ipython",
    "version": 3
   },
   "file_extension": ".py",
   "mimetype": "text/x-python",
   "name": "python",
   "nbconvert_exporter": "python",
   "pygments_lexer": "ipython3",
   "version": "3.12.3"
  },
  "panel-cell-order": [
   "77ab12ec-6a2c-4fd8-8b1a-45b8e69448cb",
   "277c96d0-48d1-4944-8f3d-369979dbae0c",
   "b26f152f-1b2c-4231-9752-4ecbe64c4e6a",
   "890c26c6-a7d4-42ff-8d19-ef0d8d6cfb5b",
   "fd4c08bc-ce9c-49b0-af2e-877593871769",
   "0028268b-647d-46db-8dbf-2f3ccf9a0651",
   "0e88ea7b-767d-4d28-9c05-0ad7e3cb61c7",
   "2409aca7-c3cd-4d6a-9290-e8acb93c9bd1",
   "6cd092eb-5772-48c9-97cf-0e2d62f0632f",
   "1e7ae03c-c6bf-46ae-a417-ebf155cadad2",
   "aa31605f-50d3-4af6-8bf0-068f3fd9d313",
   "e408b594-904b-4b9c-92c2-55dc41982f0b",
   "2409dbf1-8d23-489f-bea9-d840bae0bae8",
   "3978864d-34d2-4947-8c33-a1d7e40f4121",
   "0e167509-a196-42a6-bf71-084e8a607128",
   "8575f3c0-5cac-4265-8e5c-9c72b135b43f",
   "2cedc251-d7e6-4134-9793-72ce4d5a62f4",
   "d0f77d9e-5f69-4a87-be53-b643029b9c4c",
   "830d1f22-c971-4ad4-ae2c-9a1d2c2e4e27"
  ]
 },
 "nbformat": 4,
 "nbformat_minor": 5
}
