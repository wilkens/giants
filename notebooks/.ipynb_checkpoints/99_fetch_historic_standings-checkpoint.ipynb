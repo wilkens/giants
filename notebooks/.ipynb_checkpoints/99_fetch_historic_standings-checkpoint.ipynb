{
 "cells": [
  {
   "cell_type": "markdown",
   "id": "77ab12ec-6a2c-4fd8-8b1a-45b8e69448cb",
   "metadata": {},
   "source": [
    "# SF Giants Standings, 1958-2023\n",
    "> This notebook downloads historic standing tables from [Baseball Reference](https://www.baseball-reference.com/teams/SFG/2024-schedule-scores.shtml) and outputs them to CSV, JSON and Parquet formats for later analysis and visualization."
   ]
  },
  {
   "cell_type": "markdown",
   "id": "277c96d0-48d1-4944-8f3d-369979dbae0c",
   "metadata": {},
   "source": [
    "---"
   ]
  },
  {
   "cell_type": "markdown",
   "id": "b26f152f-1b2c-4231-9752-4ecbe64c4e6a",
   "metadata": {},
   "source": [
    "#### Import Python tools and Jupyter config"
   ]
  },
  {
   "cell_type": "code",
   "execution_count": 3,
   "id": "27cdbea4-067e-40fe-8a0e-52d79145a835",
   "metadata": {},
   "outputs": [],
   "source": [
    "import pandas as pd\n",
    "#import jupyter_black\n",
    "from time import sleep\n",
    "from tqdm.notebook import tqdm"
   ]
  },
  {
   "cell_type": "code",
   "execution_count": 4,
   "id": "890c26c6-a7d4-42ff-8d19-ef0d8d6cfb5b",
   "metadata": {
    "tags": []
   },
   "outputs": [],
   "source": [
    "#jupyter_black.load()\n",
    "pd.options.display.max_columns = 100\n",
    "pd.options.display.max_rows = 1000\n",
    "pd.options.display.max_colwidth = None"
   ]
  },
  {
   "cell_type": "markdown",
   "id": "fd4c08bc-ce9c-49b0-af2e-877593871769",
   "metadata": {},
   "source": [
    "---"
   ]
  },
  {
   "cell_type": "markdown",
   "id": "0028268b-647d-46db-8dbf-2f3ccf9a0651",
   "metadata": {},
   "source": [
    "## Fetch"
   ]
  },
  {
   "cell_type": "markdown",
   "id": "0e88ea7b-767d-4d28-9c05-0ad7e3cb61c7",
   "metadata": {},
   "source": [
    "#### List comprehension of historic urls"
   ]
  },
  {
   "cell_type": "code",
   "execution_count": 5,
   "id": "2c32116e-2db7-40fd-806b-5817806ae5f8",
   "metadata": {},
   "outputs": [],
   "source": [
    "urls = [\n",
    "    f\"https://www.baseball-reference.com/teams/SFG/{year}-schedule-scores.shtml\"\n",
    "    for year in range(1958, 2024)\n",
    "]"
   ]
  },
  {
   "cell_type": "markdown",
   "id": "9bed5334-4cdc-46a9-9aca-bac2238416de",
   "metadata": {},
   "source": [
    "#### Loop through urls, fetch standings table, store in list of dataframes"
   ]
  },
  {
   "cell_type": "code",
   "execution_count": 7,
   "id": "dab1e530-46c5-4f3f-806b-7b2abcf201c9",
   "metadata": {},
   "outputs": [
    {
     "ename": "ImportError",
     "evalue": "IProgress not found. Please update jupyter and ipywidgets. See https://ipywidgets.readthedocs.io/en/stable/user_install.html",
     "output_type": "error",
     "traceback": [
      "\u001b[0;31m---------------------------------------------------------------------------\u001b[0m",
      "\u001b[0;31mImportError\u001b[0m                               Traceback (most recent call last)",
      "Cell \u001b[0;32mIn[7], line 3\u001b[0m\n\u001b[1;32m      1\u001b[0m dfs \u001b[38;5;241m=\u001b[39m []\n\u001b[0;32m----> 3\u001b[0m \u001b[38;5;28;01mfor\u001b[39;00m url \u001b[38;5;129;01min\u001b[39;00m \u001b[43mtqdm\u001b[49m\u001b[43m(\u001b[49m\u001b[43murls\u001b[49m\u001b[43m)\u001b[49m:\n\u001b[1;32m      4\u001b[0m     year \u001b[38;5;241m=\u001b[39m url\u001b[38;5;241m.\u001b[39msplit(\u001b[38;5;124m\"\u001b[39m\u001b[38;5;124m/\u001b[39m\u001b[38;5;124m\"\u001b[39m)[\u001b[38;5;241m5\u001b[39m]\u001b[38;5;241m.\u001b[39mreplace(\u001b[38;5;124m\"\u001b[39m\u001b[38;5;124m-schedule-scores.shtml\u001b[39m\u001b[38;5;124m\"\u001b[39m, \u001b[38;5;124m\"\u001b[39m\u001b[38;5;124m\"\u001b[39m)\n\u001b[1;32m      5\u001b[0m     src_df \u001b[38;5;241m=\u001b[39m (\n\u001b[1;32m      6\u001b[0m         pd\u001b[38;5;241m.\u001b[39mread_html(url)[\u001b[38;5;241m0\u001b[39m]\n\u001b[1;32m      7\u001b[0m         \u001b[38;5;241m.\u001b[39mquery(\u001b[38;5;124m\"\u001b[39m\u001b[38;5;124mTm !=\u001b[39m\u001b[38;5;124m'\u001b[39m\u001b[38;5;124mTm\u001b[39m\u001b[38;5;124m'\u001b[39m\u001b[38;5;124m and Inn != \u001b[39m\u001b[38;5;124m'\u001b[39m\u001b[38;5;124mGame Preview, and Matchups\u001b[39m\u001b[38;5;124m'\u001b[39m\u001b[38;5;124m\"\u001b[39m)\n\u001b[0;32m   (...)\u001b[0m\n\u001b[1;32m     10\u001b[0m         \u001b[38;5;241m.\u001b[39massign(season\u001b[38;5;241m=\u001b[39myear)\n\u001b[1;32m     11\u001b[0m     )\n",
      "File \u001b[0;32m~/miniforge3/envs/giants/lib/python3.12/site-packages/tqdm/notebook.py:234\u001b[0m, in \u001b[0;36mtqdm_notebook.__init__\u001b[0;34m(self, *args, **kwargs)\u001b[0m\n\u001b[1;32m    232\u001b[0m unit_scale \u001b[38;5;241m=\u001b[39m \u001b[38;5;241m1\u001b[39m \u001b[38;5;28;01mif\u001b[39;00m \u001b[38;5;28mself\u001b[39m\u001b[38;5;241m.\u001b[39munit_scale \u001b[38;5;129;01mis\u001b[39;00m \u001b[38;5;28;01mTrue\u001b[39;00m \u001b[38;5;28;01melse\u001b[39;00m \u001b[38;5;28mself\u001b[39m\u001b[38;5;241m.\u001b[39munit_scale \u001b[38;5;129;01mor\u001b[39;00m \u001b[38;5;241m1\u001b[39m\n\u001b[1;32m    233\u001b[0m total \u001b[38;5;241m=\u001b[39m \u001b[38;5;28mself\u001b[39m\u001b[38;5;241m.\u001b[39mtotal \u001b[38;5;241m*\u001b[39m unit_scale \u001b[38;5;28;01mif\u001b[39;00m \u001b[38;5;28mself\u001b[39m\u001b[38;5;241m.\u001b[39mtotal \u001b[38;5;28;01melse\u001b[39;00m \u001b[38;5;28mself\u001b[39m\u001b[38;5;241m.\u001b[39mtotal\n\u001b[0;32m--> 234\u001b[0m \u001b[38;5;28mself\u001b[39m\u001b[38;5;241m.\u001b[39mcontainer \u001b[38;5;241m=\u001b[39m \u001b[38;5;28;43mself\u001b[39;49m\u001b[38;5;241;43m.\u001b[39;49m\u001b[43mstatus_printer\u001b[49m\u001b[43m(\u001b[49m\u001b[38;5;28;43mself\u001b[39;49m\u001b[38;5;241;43m.\u001b[39;49m\u001b[43mfp\u001b[49m\u001b[43m,\u001b[49m\u001b[43m \u001b[49m\u001b[43mtotal\u001b[49m\u001b[43m,\u001b[49m\u001b[43m \u001b[49m\u001b[38;5;28;43mself\u001b[39;49m\u001b[38;5;241;43m.\u001b[39;49m\u001b[43mdesc\u001b[49m\u001b[43m,\u001b[49m\u001b[43m \u001b[49m\u001b[38;5;28;43mself\u001b[39;49m\u001b[38;5;241;43m.\u001b[39;49m\u001b[43mncols\u001b[49m\u001b[43m)\u001b[49m\n\u001b[1;32m    235\u001b[0m \u001b[38;5;28mself\u001b[39m\u001b[38;5;241m.\u001b[39mcontainer\u001b[38;5;241m.\u001b[39mpbar \u001b[38;5;241m=\u001b[39m proxy(\u001b[38;5;28mself\u001b[39m)\n\u001b[1;32m    236\u001b[0m \u001b[38;5;28mself\u001b[39m\u001b[38;5;241m.\u001b[39mdisplayed \u001b[38;5;241m=\u001b[39m \u001b[38;5;28;01mFalse\u001b[39;00m\n",
      "File \u001b[0;32m~/miniforge3/envs/giants/lib/python3.12/site-packages/tqdm/notebook.py:108\u001b[0m, in \u001b[0;36mtqdm_notebook.status_printer\u001b[0;34m(_, total, desc, ncols)\u001b[0m\n\u001b[1;32m     99\u001b[0m \u001b[38;5;66;03m# Fallback to text bar if there's no total\u001b[39;00m\n\u001b[1;32m    100\u001b[0m \u001b[38;5;66;03m# DEPRECATED: replaced with an 'info' style bar\u001b[39;00m\n\u001b[1;32m    101\u001b[0m \u001b[38;5;66;03m# if not total:\u001b[39;00m\n\u001b[0;32m   (...)\u001b[0m\n\u001b[1;32m    105\u001b[0m \n\u001b[1;32m    106\u001b[0m \u001b[38;5;66;03m# Prepare IPython progress bar\u001b[39;00m\n\u001b[1;32m    107\u001b[0m \u001b[38;5;28;01mif\u001b[39;00m IProgress \u001b[38;5;129;01mis\u001b[39;00m \u001b[38;5;28;01mNone\u001b[39;00m:  \u001b[38;5;66;03m# #187 #451 #558 #872\u001b[39;00m\n\u001b[0;32m--> 108\u001b[0m     \u001b[38;5;28;01mraise\u001b[39;00m \u001b[38;5;167;01mImportError\u001b[39;00m(WARN_NOIPYW)\n\u001b[1;32m    109\u001b[0m \u001b[38;5;28;01mif\u001b[39;00m total:\n\u001b[1;32m    110\u001b[0m     pbar \u001b[38;5;241m=\u001b[39m IProgress(\u001b[38;5;28mmin\u001b[39m\u001b[38;5;241m=\u001b[39m\u001b[38;5;241m0\u001b[39m, \u001b[38;5;28mmax\u001b[39m\u001b[38;5;241m=\u001b[39mtotal)\n",
      "\u001b[0;31mImportError\u001b[0m: IProgress not found. Please update jupyter and ipywidgets. See https://ipywidgets.readthedocs.io/en/stable/user_install.html"
     ]
    }
   ],
   "source": [
    "dfs = []\n",
    "\n",
    "for url in tqdm(urls):\n",
    "    year = url.split(\"/\")[5].replace(\"-schedule-scores.shtml\", \"\")\n",
    "    src_df = (\n",
    "        pd.read_html(url)[0]\n",
    "        .query(\"Tm !='Tm' and Inn != 'Game Preview, and Matchups'\")\n",
    "        .drop([\"Unnamed: 2\", \"Streak\", \"Orig. Scheduled\"], axis=1)\n",
    "        .rename(columns={\"Unnamed: 4\": \"home_away\"})\n",
    "        .assign(season=year)\n",
    "    )\n",
    "    dfs.append(src_df)\n",
    "    sleep(4)"
   ]
  },
  {
   "cell_type": "markdown",
   "id": "18fd4c9d-e11f-4730-9b66-d116c079902b",
   "metadata": {},
   "source": [
    "#### Concatenate into one historic dataframe"
   ]
  },
  {
   "cell_type": "code",
   "execution_count": 6,
   "id": "675a92e2-9ac9-49a7-b798-2a1d4f5551a6",
   "metadata": {},
   "outputs": [],
   "source": [
    "src = pd.concat(dfs)"
   ]
  },
  {
   "cell_type": "markdown",
   "id": "c2ffee7e-b39b-4a50-8e96-ce0a0d69b6e6",
   "metadata": {},
   "source": [
    "---"
   ]
  },
  {
   "cell_type": "markdown",
   "id": "9903885e-0173-4f30-b072-95d62d11c202",
   "metadata": {},
   "source": [
    "## Process"
   ]
  },
  {
   "cell_type": "markdown",
   "id": "5fc3a5bf-20db-4b2d-8503-bc9584a37fab",
   "metadata": {},
   "source": [
    "#### Clean columns"
   ]
  },
  {
   "cell_type": "code",
   "execution_count": 7,
   "id": "f320417b-6c70-4225-b36c-cc884adf009b",
   "metadata": {},
   "outputs": [],
   "source": [
    "src.columns = src.columns.str.lower().str.replace(\"/\", \"_\").str.replace(\"-\", \"-\")"
   ]
  },
  {
   "cell_type": "code",
   "execution_count": 8,
   "id": "e4fcba0a-62bd-4273-9c5a-138c334d193b",
   "metadata": {},
   "outputs": [],
   "source": [
    "src.columns = [\n",
    "    \"gm\",\n",
    "    \"date\",\n",
    "    \"tm\",\n",
    "    \"home_away\",\n",
    "    \"opp\",\n",
    "    \"result\",\n",
    "    \"r\",\n",
    "    \"ra\",\n",
    "    \"inn\",\n",
    "    \"record\",\n",
    "    \"rank\",\n",
    "    \"gb\",\n",
    "    \"win\",\n",
    "    \"loss\",\n",
    "    \"save\",\n",
    "    \"time\",\n",
    "    \"day_night\",\n",
    "    \"attendance\",\n",
    "    \"cli\",\n",
    "    \"year\",\n",
    "]"
   ]
  },
  {
   "cell_type": "markdown",
   "id": "e6bf6050-d736-4870-b9fd-ff64eb7e30a5",
   "metadata": {},
   "source": [
    "#### Split, format date"
   ]
  },
  {
   "cell_type": "code",
   "execution_count": 9,
   "id": "b44c9d60-6645-4c45-a780-4d83d42a53d1",
   "metadata": {},
   "outputs": [],
   "source": [
    "src[[\"weekday\", \"date\"]] = src[\"date\"].str.split(\", \", expand=True)"
   ]
  },
  {
   "cell_type": "code",
   "execution_count": 10,
   "id": "ff7102a2-3a34-482a-a797-8720c0ec820c",
   "metadata": {},
   "outputs": [],
   "source": [
    "src[\"date\"] = src[\"date\"].str.replace(\" (1)\", \"\").str.replace(\" (2)\", \"\")"
   ]
  },
  {
   "cell_type": "code",
   "execution_count": 11,
   "id": "968559ef-a37d-4933-aff2-cb0fb5081f16",
   "metadata": {},
   "outputs": [],
   "source": [
    "src[\"game_date\"] = pd.to_datetime(src[\"date\"] + \", \" + src[\"year\"], format=\"%b %d, %Y\")"
   ]
  },
  {
   "cell_type": "markdown",
   "id": "e9dcc4ed-691f-453d-a551-e8d55f879f52",
   "metadata": {},
   "source": [
    "#### Clean home-away column"
   ]
  },
  {
   "cell_type": "code",
   "execution_count": 12,
   "id": "1fa462d0-16cf-49f8-b51e-27374d333261",
   "metadata": {},
   "outputs": [],
   "source": [
    "src.loc[src.home_away == \"@\", \"home_away\"] = \"away\"\n",
    "src.loc[src.home_away.isna(), \"home_away\"] = \"home\""
   ]
  },
  {
   "cell_type": "markdown",
   "id": "7c17dd9d-efb0-4266-904a-622695d03a52",
   "metadata": {},
   "source": [
    "#### Clean result column"
   ]
  },
  {
   "cell_type": "code",
   "execution_count": null,
   "id": "10e8a74f-4654-487d-bb1c-8b9bfb641cf4",
   "metadata": {},
   "outputs": [],
   "source": [
    "src[\"result\"] = src[\"result\"].str.split(\"-\", expand=True)[0]"
   ]
  },
  {
   "cell_type": "markdown",
   "id": "60765117-ccc4-4cd2-afd9-2bc438e196b1",
   "metadata": {},
   "source": [
    "#### Format \"games back\" as a number (positive = lead; negative = behind)"
   ]
  },
  {
   "cell_type": "code",
   "execution_count": 13,
   "id": "95f41732-4d06-4fa4-82d6-e88d5aff4579",
   "metadata": {},
   "outputs": [],
   "source": [
    "src[\"gb\"] = (\n",
    "    src[\"gb\"].str.replace(\"up \", \"up\").str.replace(\"up\", \"+\").str.replace(\"Tied\", \"0\")\n",
    ")"
   ]
  },
  {
   "cell_type": "code",
   "execution_count": 14,
   "id": "d994ac82-3ee4-406c-ae16-336b448d4697",
   "metadata": {},
   "outputs": [],
   "source": [
    "src[\"gb\"] = src[\"gb\"].apply(\n",
    "    lambda x: float(x) if x.startswith(\"+\") else -float(x) if float(x) != 0 else 0\n",
    ")"
   ]
  },
  {
   "cell_type": "markdown",
   "id": "94ea1c28-9247-4a97-9f77-4c950003ee3e",
   "metadata": {},
   "source": [
    "#### The *number* of games"
   ]
  },
  {
   "cell_type": "code",
   "execution_count": 15,
   "id": "90b51bfa-f337-4ab7-918e-c1d3fbe564d0",
   "metadata": {},
   "outputs": [],
   "source": [
    "src[\"attendance\"] = src[\"attendance\"].fillna(0)\n",
    "src[\"gm\"] = src[\"gm\"].astype(int)\n",
    "src[[\"r\", \"ra\", \"attendance\", \"gm\"]] = src[[\"r\", \"ra\", \"attendance\", \"gm\"]].astype(int)"
   ]
  },
  {
   "cell_type": "markdown",
   "id": "b382c862-880a-4db8-8cba-05c08607d242",
   "metadata": {},
   "source": [
    "#### Convert the 'time' column to timedelta, then to minutes"
   ]
  },
  {
   "cell_type": "code",
   "execution_count": 16,
   "id": "ccdd20ab-6d32-49ed-9bfb-2468411968e4",
   "metadata": {},
   "outputs": [],
   "source": [
    "src[\"time\"] = src[\"time\"] + \":00\""
   ]
  },
  {
   "cell_type": "code",
   "execution_count": 17,
   "id": "ae7c11f5-d12d-42ba-b9ce-20d914c412ad",
   "metadata": {},
   "outputs": [],
   "source": [
    "src[\"time_minutes\"] = pd.to_timedelta(src[\"time\"]).dt.total_seconds() / 60\n",
    "src[\"time_minutes\"] = src[\"time_minutes\"].astype(int)"
   ]
  },
  {
   "cell_type": "markdown",
   "id": "458ff264-8e9a-4a1c-a3ea-27f105b81ac8",
   "metadata": {},
   "source": [
    "#### Just the columns we need, in a clean dataframe"
   ]
  },
  {
   "cell_type": "code",
   "execution_count": 18,
   "id": "1801ab58-c77f-4c77-9250-6103eb3ed55a",
   "metadata": {},
   "outputs": [],
   "source": [
    "df = src[\n",
    "    [\n",
    "        \"gm\",\n",
    "        \"game_date\",\n",
    "        \"home_away\",\n",
    "        \"opp\",\n",
    "        \"result\",\n",
    "        \"r\",\n",
    "        \"ra\",\n",
    "        \"record\",\n",
    "        \"rank\",\n",
    "        \"gb\",\n",
    "        \"time\",\n",
    "        \"time_minutes\",\n",
    "        \"day_night\",\n",
    "        \"attendance\",\n",
    "        \"year\",\n",
    "    ]\n",
    "].copy()"
   ]
  },
  {
   "cell_type": "markdown",
   "id": "ef16a450-81a7-4284-b5d1-81974a1fb42e",
   "metadata": {},
   "source": [
    "---"
   ]
  },
  {
   "cell_type": "markdown",
   "id": "2cedc251-d7e6-4134-9793-72ce4d5a62f4",
   "metadata": {},
   "source": [
    "## Exports"
   ]
  },
  {
   "cell_type": "markdown",
   "id": "d0f77d9e-5f69-4a87-be53-b643029b9c4c",
   "metadata": {},
   "source": [
    "#### CSV format"
   ]
  },
  {
   "cell_type": "code",
   "execution_count": 19,
   "id": "e84208b5-e99e-4a3a-96a3-3325eeea9b96",
   "metadata": {},
   "outputs": [],
   "source": [
    "df.to_csv(\"../data/standings/archive/giants_standings_1958_2023.csv\", index=False)"
   ]
  },
  {
   "cell_type": "markdown",
   "id": "830d1f22-c971-4ad4-ae2c-9a1d2c2e4e27",
   "metadata": {},
   "source": [
    "#### JSON"
   ]
  },
  {
   "cell_type": "code",
   "execution_count": 20,
   "id": "caa25ee4-0a65-4423-abea-0d78434c0036",
   "metadata": {},
   "outputs": [],
   "source": [
    "df.to_json(\n",
    "    \"../data/standings/archive/giants_standings_1958_2023.json\", indent=4, orient=\"records\"\n",
    ")"
   ]
  },
  {
   "cell_type": "markdown",
   "id": "45b20d5f-dd62-41bf-8437-a768fe8f3359",
   "metadata": {},
   "source": [
    "#### Parquet"
   ]
  },
  {
   "cell_type": "code",
   "execution_count": 21,
   "id": "b466b230-0037-41e7-b47d-76c9e7a79ef6",
   "metadata": {},
   "outputs": [],
   "source": [
    "df.to_parquet(\"../data/standings/archive/giants_standings_1958_2023.parquet\", index=False)"
   ]
  },
  {
   "cell_type": "code",
   "execution_count": null,
   "id": "22304813-fa70-49ce-8acc-3d904f8905e1",
   "metadata": {},
   "outputs": [],
   "source": []
  }
 ],
 "metadata": {
  "kernelspec": {
   "display_name": "Python 3 (ipykernel)",
   "language": "python",
   "name": "python3"
  },
  "language_info": {
   "codemirror_mode": {
    "name": "ipython",
    "version": 3
   },
   "file_extension": ".py",
   "mimetype": "text/x-python",
   "name": "python",
   "nbconvert_exporter": "python",
   "pygments_lexer": "ipython3",
   "version": "3.12.3"
  }
 },
 "nbformat": 4,
 "nbformat_minor": 5
}
