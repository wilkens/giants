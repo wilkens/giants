{
 "cells": [
  {
   "cell_type": "markdown",
   "id": "77ab12ec-6a2c-4fd8-8b1a-45b8e69448cb",
   "metadata": {},
   "source": [
    "# SF Giants batting, 1958-2023\n",
    "> This notebook downloads historic batting tables from [Baseball Reference](https://www.baseball-reference.com/teams/SFG/2024-batting.shtml) and outputs them to CSV, JSON and Parquet formats for later analysis and visualization."
   ]
  },
  {
   "cell_type": "markdown",
   "id": "277c96d0-48d1-4944-8f3d-369979dbae0c",
   "metadata": {},
   "source": [
    "---"
   ]
  },
  {
   "cell_type": "markdown",
   "id": "b26f152f-1b2c-4231-9752-4ecbe64c4e6a",
   "metadata": {},
   "source": [
    "#### Import Python tools and Jupyter config"
   ]
  },
  {
   "cell_type": "code",
   "execution_count": 16,
   "id": "27cdbea4-067e-40fe-8a0e-52d79145a835",
   "metadata": {},
   "outputs": [],
   "source": [
    "import pandas as pd\n",
    "#import jupyter_black\n",
    "from time import sleep\n",
    "from random import randint\n",
    "from tqdm.notebook import tqdm"
   ]
  },
  {
   "cell_type": "code",
   "execution_count": 17,
   "id": "890c26c6-a7d4-42ff-8d19-ef0d8d6cfb5b",
   "metadata": {
    "tags": []
   },
   "outputs": [],
   "source": [
    "#jupyter_black.load()\n",
    "pd.options.display.max_columns = 100\n",
    "pd.options.display.max_rows = 1000\n",
    "pd.options.display.max_colwidth = None"
   ]
  },
  {
   "cell_type": "markdown",
   "id": "fd4c08bc-ce9c-49b0-af2e-877593871769",
   "metadata": {},
   "source": [
    "---"
   ]
  },
  {
   "cell_type": "markdown",
   "id": "0028268b-647d-46db-8dbf-2f3ccf9a0651",
   "metadata": {},
   "source": [
    "## Fetch"
   ]
  },
  {
   "cell_type": "markdown",
   "id": "0e88ea7b-767d-4d28-9c05-0ad7e3cb61c7",
   "metadata": {},
   "source": [
    "#### List comprehension of historic batting stats pages"
   ]
  },
  {
   "cell_type": "code",
   "execution_count": 18,
   "id": "2fab119b-1e2f-42f3-bbe5-c6e0eb2fb598",
   "metadata": {},
   "outputs": [],
   "source": [
    "urls = [\n",
    "    f\"https://www.baseball-reference.com/teams/SFG/{year}-batting.shtml\"\n",
    "    for year in range(1958, 2024)\n",
    "]"
   ]
  },
  {
   "cell_type": "markdown",
   "id": "9bed5334-4cdc-46a9-9aca-bac2238416de",
   "metadata": {},
   "source": [
    "#### Loop through urls, fetch batting table, clear out summary tables, store in list of dataframes"
   ]
  },
  {
   "cell_type": "code",
   "execution_count": 20,
   "id": "e1c5d78f-e1b6-4eba-a911-8fd09ab21f7d",
   "metadata": {},
   "outputs": [
    {
     "data": {
      "application/vnd.jupyter.widget-view+json": {
       "model_id": "ccbf8d20f236467eb780dfd140eb2255",
       "version_major": 2,
       "version_minor": 0
      },
      "text/plain": [
       "  0%|          | 0/66 [00:00<?, ?it/s]"
      ]
     },
     "metadata": {},
     "output_type": "display_data"
    },
    {
     "name": "stdout",
     "output_type": "stream",
     "text": [
      "     rk  pos                name   age    g    pa    ab    r     h   2b  3b  \\\n",
      "40  NaN  NaN         Team Totals  26.7  154  6003  5318  727  1399  250  42   \n",
      "41  NaN  NaN  Rank in 8 NL teams   NaN  NaN   NaN     2    1     3    1   5   \n",
      "42  NaN  NaN  Non-Pitcher Totals  26.7  154  5546  4910  692  1325  238  41   \n",
      "43  NaN  NaN      Pitcher Totals  27.2  154   457   408   35    74   12   1   \n",
      "\n",
      "     hr  rbi  sb  cs   bb   so    ba   obp   slg   ops ops_plus    tb  gdp  \\\n",
      "40  170  682  64  29  531  817  .263  .331  .422  .753      100  2243  119   \n",
      "41    3  NaN   2   4    4    5     5     2     2     2      NaN     2  NaN   \n",
      "42  169  655  63  29  515  696  .270  .340  .438  .779      107  2152  108   \n",
      "43    1   27   1   0   16  121  .181  .213  .223  .436       17    91   11   \n",
      "\n",
      "   hbp   sh  sf  ibb season  \n",
      "40  34   68  45   54   1958  \n",
      "41   4  NaN   1  NaN   1958  \n",
      "42  33   41  43   54   1958  \n",
      "43   1   27   2    0   1958  \n",
      "(4, 29)\n"
     ]
    }
   ],
   "source": [
    "src_dfs = []\n",
    "summary_dfs = []\n",
    "\n",
    "for url in tqdm(urls):\n",
    "    year = url.split(\"/\")[-1].replace(\"-batting.shtml\", \"\")\n",
    "    \n",
    "    # Player stats\n",
    "    src_df = (\n",
    "        pd.read_html(url)[0]\n",
    "        .query(f\"~Rk.isna() and Rk != 'Rk'\")\n",
    "        .dropna(thresh=7)\n",
    "        .assign(season=year)\n",
    "    )\n",
    "    src_df.columns = src_df.columns.str.lower().str.replace(\"+\", \"_plus\")\n",
    "    src_dfs.append(src_df)\n",
    "\n",
    "    # Team stats\n",
    "    summary_df = (\n",
    "        pd.read_html(url)[0]\n",
    "        .query(f\"Rk.isna() and Rk != 'Rk'\")\n",
    "        .dropna(thresh=7)\n",
    "        .assign(season=year)\n",
    "    )\n",
    "    summary_df.columns = summary_df.columns.str.lower().str.replace(\"+\", \"_plus\")\n",
    "    summary_dfs.append(summary_df)\n",
    "\n",
    "    # Be kind to the server\n",
    "    sleep(randint(3, 6))"
   ]
  },
  {
   "cell_type": "markdown",
   "id": "66429b55-eb4a-4b94-ade2-2e2f3732b01e",
   "metadata": {},
   "source": [
    "#### Concatenate dataframes"
   ]
  },
  {
   "cell_type": "code",
   "execution_count": 5,
   "id": "a2db2883-0e6f-402f-a643-4fd64942d4e8",
   "metadata": {},
   "outputs": [],
   "source": [
    "player_df = pd.concat(src_dfs).drop_duplicates().reset_index(drop=True)\n",
    "summary_df = pd.concat(summary_dfs).drop_duplicates().reset_index(drop=True)"
   ]
  },
  {
   "cell_type": "markdown",
   "id": "db835c4f-edd8-4f78-8b92-c5c016d73c12",
   "metadata": {},
   "source": [
    "---"
   ]
  },
  {
   "cell_type": "markdown",
   "id": "9941afec-f2d3-4f27-89b1-6bc109d5226f",
   "metadata": {},
   "source": [
    "## Player stats"
   ]
  },
  {
   "cell_type": "markdown",
   "id": "964f56e5-3dde-4807-8cff-58bd816de0aa",
   "metadata": {},
   "source": [
    "#### Remove injury details listed parenthetically next to some players' names"
   ]
  },
  {
   "cell_type": "code",
   "execution_count": 6,
   "id": "e6ec9bd7-da87-485d-a2b9-e9476e55ec00",
   "metadata": {},
   "outputs": [],
   "source": [
    "player_df[\"name\"] = player_df[\"name\"].str.split(\"(\", expand=True)[0].str.strip()"
   ]
  },
  {
   "cell_type": "markdown",
   "id": "08060079-1dbb-40a9-b2d8-6325e847c05d",
   "metadata": {},
   "source": [
    "#### Determine batter type, clean special characters from names"
   ]
  },
  {
   "cell_type": "code",
   "execution_count": 7,
   "id": "e0e0a0a3-7040-45f0-86cd-dd05c772116b",
   "metadata": {},
   "outputs": [],
   "source": [
    "def determine_and_clean_bats(name):\n",
    "    # Determine batting stance\n",
    "    if name.endswith(\"*\"):\n",
    "        bat = \"Left\"\n",
    "    elif name.endswith(\"#\"):\n",
    "        bat = \"Both\"\n",
    "    elif name.endswith(\"?\"):\n",
    "        bat = \"Unknown\"\n",
    "    else:\n",
    "        bat = \"Right\"\n",
    "\n",
    "    if name[-1] in \"*#?\":\n",
    "        name = name[:-1]\n",
    "\n",
    "    return bat, name"
   ]
  },
  {
   "cell_type": "markdown",
   "id": "dfba1791-ab6c-4700-b3c0-5ecb10b62f4f",
   "metadata": {},
   "source": [
    "#### Apply the function and separate the results into two columns"
   ]
  },
  {
   "cell_type": "code",
   "execution_count": 8,
   "id": "72553995-8b87-4735-9c78-d50e5d3358d2",
   "metadata": {},
   "outputs": [],
   "source": [
    "player_df[\"bats\"], player_df[\"name_clean\"] = zip(\n",
    "    *player_df[\"name\"].apply(determine_and_clean_bats)\n",
    ")"
   ]
  },
  {
   "cell_type": "markdown",
   "id": "a8d3ce27-755e-4857-b0f4-893780163100",
   "metadata": {},
   "source": [
    "#### Replace the original 'player' column with the cleaned names"
   ]
  },
  {
   "cell_type": "code",
   "execution_count": 9,
   "id": "c063e288-4360-4aca-a5ac-9e5b811065b5",
   "metadata": {},
   "outputs": [],
   "source": [
    "player_df[\"name\"] = player_df[\"name_clean\"]\n",
    "del player_df[\"name_clean\"]"
   ]
  },
  {
   "cell_type": "code",
   "execution_count": 10,
   "id": "983f0e74-731a-4711-a114-cf75a1ab5048",
   "metadata": {},
   "outputs": [],
   "source": [
    "player_df[\n",
    "    [\n",
    "        \"g\",\n",
    "        \"pa\",\n",
    "        \"ab\",\n",
    "        \"r\",\n",
    "        \"h\",\n",
    "        \"2b\",\n",
    "        \"3b\",\n",
    "        \"hr\",\n",
    "        \"rbi\",\n",
    "        \"sb\",\n",
    "        \"cs\",\n",
    "        \"bb\",\n",
    "        \"so\",\n",
    "        \"tb\",\n",
    "        \"gdp\",\n",
    "        \"hbp\",\n",
    "        \"sh\",\n",
    "        \"sf\",\n",
    "        \"ibb\",\n",
    "    ]\n",
    "] = player_df[\n",
    "    [\n",
    "        \"g\",\n",
    "        \"pa\",\n",
    "        \"ab\",\n",
    "        \"r\",\n",
    "        \"h\",\n",
    "        \"2b\",\n",
    "        \"3b\",\n",
    "        \"hr\",\n",
    "        \"rbi\",\n",
    "        \"sb\",\n",
    "        \"cs\",\n",
    "        \"bb\",\n",
    "        \"so\",\n",
    "        \"tb\",\n",
    "        \"gdp\",\n",
    "        \"hbp\",\n",
    "        \"sh\",\n",
    "        \"sf\",\n",
    "        \"ibb\",\n",
    "    ]\n",
    "].astype(\n",
    "    int\n",
    ")"
   ]
  },
  {
   "cell_type": "code",
   "execution_count": 11,
   "id": "c2e4c3fd-b193-4797-a6c6-76e49d094b08",
   "metadata": {},
   "outputs": [],
   "source": [
    "player_df[[\"ba\", \"obp\", \"slg\", \"ops\", \"ops_plus\"]] = player_df[\n",
    "    [\"ba\", \"obp\", \"slg\", \"ops\", \"ops_plus\"]\n",
    "].astype(float)"
   ]
  },
  {
   "cell_type": "markdown",
   "id": "36090417-0576-41ce-b32c-8675812251e4",
   "metadata": {},
   "source": [
    "---"
   ]
  },
  {
   "cell_type": "markdown",
   "id": "4d847b46-4853-47cc-b49d-6addb4a86a7b",
   "metadata": {},
   "source": [
    "## Team stats\n",
    "> The main batting table has totals for the team, with ranks and aggregates by season"
   ]
  },
  {
   "cell_type": "code",
   "execution_count": 12,
   "id": "c9ef5a28-f8b4-452a-83cb-1ad16de5411b",
   "metadata": {},
   "outputs": [],
   "source": [
    "team_totals_df = summary_df.query('name == \"Team Totals\"').dropna(axis=1)"
   ]
  },
  {
   "cell_type": "code",
   "execution_count": 13,
   "id": "28854267-8abb-4274-92c9-b6dd333af61c",
   "metadata": {},
   "outputs": [],
   "source": [
    "team_ranks_df = summary_df.query('name.str.contains(\"Rank\")').dropna(axis=1)"
   ]
  },
  {
   "cell_type": "markdown",
   "id": "ad9cc210-26b0-447d-b084-0b60fe665b22",
   "metadata": {},
   "source": [
    "---"
   ]
  },
  {
   "cell_type": "markdown",
   "id": "f07584b0-4be1-445e-add7-0843af913a1f",
   "metadata": {},
   "source": [
    "## Exports"
   ]
  },
  {
   "cell_type": "code",
   "execution_count": 14,
   "id": "1f97a806-3b0a-449c-b9d4-962aea3ce2b3",
   "metadata": {},
   "outputs": [],
   "source": [
    "def save_dataframe(df, path_without_extension, formats):\n",
    "    \"\"\"\n",
    "    Save a DataFrame in multiple formats.\n",
    "    \"\"\"\n",
    "    for file_format in formats:\n",
    "        if file_format == \"csv\":\n",
    "            df.to_csv(f\"{path_without_extension}.{file_format}\", index=False)\n",
    "        elif file_format == \"json\":\n",
    "            df.to_json(\n",
    "                f\"{path_without_extension}.{file_format}\", indent=4, orient=\"records\"\n",
    "            )\n",
    "        elif file_format == \"parquet\":\n",
    "            df.to_parquet(f\"{path_without_extension}.{file_format}\", index=False)\n",
    "        else:\n",
    "            print(f\"Unsupported format: {file_format}\")"
   ]
  },
  {
   "cell_type": "code",
   "execution_count": 15,
   "id": "17f20ba3-4e63-400a-a52b-78157759c1f0",
   "metadata": {},
   "outputs": [],
   "source": [
    "formats = [\"csv\", \"json\", \"parquet\"]\n",
    "save_dataframe(\n",
    "    team_totals_df,\n",
    "    \"../data/batting/archive/giants_team_batting_statistics_1958_2023\",\n",
    "    formats,\n",
    ")\n",
    "save_dataframe(\n",
    "    player_df,\n",
    "    \"../data/batting/archive/giants_player_batting_statistics_1958_2023\",\n",
    "    formats,\n",
    ")\n",
    "save_dataframe(\n",
    "    team_ranks_df,\n",
    "    \"../data/batting/archive/giants_team_batting_rankings_1958_2023\",\n",
    "    formats,\n",
    ")"
   ]
  },
  {
   "cell_type": "code",
   "execution_count": null,
   "id": "861304ba-3e8f-4057-92ce-74edf651373f",
   "metadata": {},
   "outputs": [],
   "source": []
  }
 ],
 "metadata": {
  "kernelspec": {
   "display_name": "Python 3 (ipykernel)",
   "language": "python",
   "name": "python3"
  },
  "language_info": {
   "codemirror_mode": {
    "name": "ipython",
    "version": 3
   },
   "file_extension": ".py",
   "mimetype": "text/x-python",
   "name": "python",
   "nbconvert_exporter": "python",
   "pygments_lexer": "ipython3",
   "version": "3.12.3"
  }
 },
 "nbformat": 4,
 "nbformat_minor": 5
}
